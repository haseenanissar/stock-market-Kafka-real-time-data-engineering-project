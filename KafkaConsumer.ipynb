{
 "cells": [
  {
   "cell_type": "code",
   "execution_count": 8,
   "id": "9496e3c6-7b33-4be0-8422-03dbc1247eb1",
   "metadata": {},
   "outputs": [
    {
     "name": "stdout",
     "output_type": "stream",
     "text": [
      "Collecting s3fs\n",
      "  Downloading s3fs-2025.10.0-py3-none-any.whl.metadata (1.4 kB)\n",
      "Collecting aiobotocore\n",
      "  Downloading aiobotocore-2.25.1-py3-none-any.whl.metadata (25 kB)\n",
      "Collecting fsspec\n",
      "  Downloading fsspec-2025.10.0-py3-none-any.whl.metadata (10 kB)\n",
      "Collecting boto3\n",
      "  Using cached boto3-1.40.63-py3-none-any.whl.metadata (6.6 kB)\n",
      "Requirement already satisfied: aiohttp!=4.0.0a0,!=4.0.0a1 in c:\\users\\hasyr\\anaconda3\\lib\\site-packages (from s3fs) (3.11.10)\n",
      "Requirement already satisfied: aioitertools<1.0.0,>=0.5.1 in c:\\users\\hasyr\\anaconda3\\lib\\site-packages (from aiobotocore) (0.7.1)\n",
      "Collecting botocore<1.40.62,>=1.40.46 (from aiobotocore)\n",
      "  Downloading botocore-1.40.61-py3-none-any.whl.metadata (5.7 kB)\n",
      "Requirement already satisfied: python-dateutil<3.0.0,>=2.1 in c:\\users\\hasyr\\appdata\\roaming\\python\\python313\\site-packages (from aiobotocore) (2.9.0.post0)\n",
      "Requirement already satisfied: jmespath<2.0.0,>=0.7.1 in c:\\users\\hasyr\\anaconda3\\lib\\site-packages (from aiobotocore) (1.0.1)\n",
      "Requirement already satisfied: multidict<7.0.0,>=6.0.0 in c:\\users\\hasyr\\anaconda3\\lib\\site-packages (from aiobotocore) (6.1.0)\n",
      "Requirement already satisfied: wrapt<2.0.0,>=1.10.10 in c:\\users\\hasyr\\anaconda3\\lib\\site-packages (from aiobotocore) (1.17.0)\n",
      "INFO: pip is looking at multiple versions of boto3 to determine which version is compatible with other requirements. This could take a while.\n",
      "Collecting boto3\n",
      "  Using cached boto3-1.40.62-py3-none-any.whl.metadata (6.6 kB)\n",
      "  Downloading boto3-1.40.61-py3-none-any.whl.metadata (6.6 kB)\n",
      "Collecting s3transfer<0.15.0,>=0.14.0 (from boto3)\n",
      "  Using cached s3transfer-0.14.0-py3-none-any.whl.metadata (1.7 kB)\n",
      "Requirement already satisfied: aiohappyeyeballs>=2.3.0 in c:\\users\\hasyr\\anaconda3\\lib\\site-packages (from aiohttp!=4.0.0a0,!=4.0.0a1->s3fs) (2.4.4)\n",
      "Requirement already satisfied: aiosignal>=1.1.2 in c:\\users\\hasyr\\anaconda3\\lib\\site-packages (from aiohttp!=4.0.0a0,!=4.0.0a1->s3fs) (1.2.0)\n",
      "Requirement already satisfied: attrs>=17.3.0 in c:\\users\\hasyr\\anaconda3\\lib\\site-packages (from aiohttp!=4.0.0a0,!=4.0.0a1->s3fs) (24.3.0)\n",
      "Requirement already satisfied: frozenlist>=1.1.1 in c:\\users\\hasyr\\anaconda3\\lib\\site-packages (from aiohttp!=4.0.0a0,!=4.0.0a1->s3fs) (1.5.0)\n",
      "Requirement already satisfied: propcache>=0.2.0 in c:\\users\\hasyr\\anaconda3\\lib\\site-packages (from aiohttp!=4.0.0a0,!=4.0.0a1->s3fs) (0.3.1)\n",
      "Requirement already satisfied: yarl<2.0,>=1.17.0 in c:\\users\\hasyr\\anaconda3\\lib\\site-packages (from aiohttp!=4.0.0a0,!=4.0.0a1->s3fs) (1.18.0)\n",
      "Requirement already satisfied: typing_extensions>=3.7 in c:\\users\\hasyr\\anaconda3\\lib\\site-packages (from aioitertools<1.0.0,>=0.5.1->aiobotocore) (4.12.2)\n",
      "Requirement already satisfied: urllib3!=2.2.0,<3,>=1.25.4 in c:\\users\\hasyr\\anaconda3\\lib\\site-packages (from botocore<1.40.62,>=1.40.46->aiobotocore) (2.3.0)\n",
      "Requirement already satisfied: six>=1.5 in c:\\users\\hasyr\\appdata\\roaming\\python\\python313\\site-packages (from python-dateutil<3.0.0,>=2.1->aiobotocore) (1.17.0)\n",
      "Requirement already satisfied: idna>=2.0 in c:\\users\\hasyr\\anaconda3\\lib\\site-packages (from yarl<2.0,>=1.17.0->aiohttp!=4.0.0a0,!=4.0.0a1->s3fs) (3.7)\n",
      "Downloading s3fs-2025.10.0-py3-none-any.whl (30 kB)\n",
      "Downloading fsspec-2025.10.0-py3-none-any.whl (200 kB)\n",
      "Downloading aiobotocore-2.25.1-py3-none-any.whl (86 kB)\n",
      "Downloading boto3-1.40.61-py3-none-any.whl (139 kB)\n",
      "Downloading botocore-1.40.61-py3-none-any.whl (14.1 MB)\n",
      "   ---------------------------------------- 0.0/14.1 MB ? eta -:--:--\n",
      "   ------------ --------------------------- 4.5/14.1 MB 22.2 MB/s eta 0:00:01\n",
      "   ---------------------------- ----------- 10.0/14.1 MB 24.9 MB/s eta 0:00:01\n",
      "   ---------------------------------------- 14.1/14.1 MB 23.5 MB/s eta 0:00:00\n",
      "Using cached s3transfer-0.14.0-py3-none-any.whl (85 kB)\n",
      "Installing collected packages: fsspec, botocore, s3transfer, aiobotocore, s3fs, boto3\n",
      "Successfully installed aiobotocore-2.25.1 boto3-1.40.61 botocore-1.40.61 fsspec-2025.10.0 s3fs-2025.10.0 s3transfer-0.14.0\n",
      "Note: you may need to restart the kernel to use updated packages.\n"
     ]
    },
    {
     "name": "stderr",
     "output_type": "stream",
     "text": [
      "\n",
      "[notice] A new release of pip is available: 25.0.1 -> 25.3\n",
      "[notice] To update, run: python.exe -m pip install --upgrade pip\n"
     ]
    }
   ],
   "source": [
    "pip install --upgrade \"s3fs\" \"aiobotocore\" \"fsspec\" \"boto3\"\n"
   ]
  },
  {
   "cell_type": "code",
   "execution_count": 12,
   "id": "093df61c-55c4-466b-9a7f-64a76cdcfa9f",
   "metadata": {},
   "outputs": [],
   "source": [
    "import s3fs"
   ]
  },
  {
   "cell_type": "code",
   "execution_count": 13,
   "id": "4795a659-ca4e-4628-bf2f-541d6394c638",
   "metadata": {},
   "outputs": [],
   "source": [
    "from kafka import KafkaConsumer\n",
    "from time import sleep\n",
    "from json import dumps,loads\n",
    "import json\n",
    "from s3fs import S3FileSystem"
   ]
  },
  {
   "cell_type": "code",
   "execution_count": 14,
   "id": "8f02e711-bb13-4250-943a-f8629259e6d0",
   "metadata": {},
   "outputs": [],
   "source": [
    "# ---------------------------\n",
    "# S3FS Setup\n",
    "# ---------------------------"
   ]
  },
  {
   "cell_type": "code",
   "execution_count": 15,
   "id": "7e8b19d8-5814-43bb-983a-fcde2047b0e0",
   "metadata": {},
   "outputs": [],
   "source": [
    "fs = s3fs.S3FileSystem(anon=False, asynchronous=False)\n"
   ]
  },
  {
   "cell_type": "code",
   "execution_count": 16,
   "id": "a90d960f-2609-40a3-9f4d-1ff5ab8343d8",
   "metadata": {},
   "outputs": [
    {
     "name": "stdout",
     "output_type": "stream",
     "text": [
      "['stock-market-bucket-hasy/stock_market_test.json', 'stock-market-bucket-hasy/test.txt']\n"
     ]
    }
   ],
   "source": [
    "print(fs.ls('s3://stock-market-bucket-hasy'))"
   ]
  },
  {
   "cell_type": "code",
   "execution_count": null,
   "id": "613fae82-e193-47a4-9e0c-cde0e0429e48",
   "metadata": {},
   "outputs": [],
   "source": [
    "#consumer setup"
   ]
  },
  {
   "cell_type": "code",
   "execution_count": 17,
   "id": "0eb23c77-e47e-4a65-920b-3214a42486d3",
   "metadata": {},
   "outputs": [],
   "source": [
    "consumer = KafkaConsumer(\n",
    "    'demotopic',\n",
    "     bootstrap_servers=['3.137.139.188:9092'], #add your IP here\n",
    "   # value_deserializer=lambda x: loads(x.decode('utf-8')))\n",
    "    auto_offset_reset='earliest',\n",
    "    enable_auto_commit=True\n",
    ")"
   ]
  },
  {
   "cell_type": "code",
   "execution_count": null,
   "id": "fe0b5a82-b423-4908-aab0-61150affa394",
   "metadata": {},
   "outputs": [],
   "source": [
    "#loading files to s3 bucket"
   ]
  },
  {
   "cell_type": "code",
   "execution_count": null,
   "id": "d585e9af-8f21-43c9-bb19-fb5256073138",
   "metadata": {},
   "outputs": [],
   "source": [
    "fs = s3fs.S3FileSystem()\n",
    "\n",
    "for count, msg in enumerate(consumer):\n",
    "    try:\n",
    "        # Decode Kafka message value\n",
    "        data = json.loads(msg.value.decode('utf-8'))\n",
    "        \n",
    "        # Create an S3 key for each file\n",
    "        s3_key = f\"s3://stock-market-bucket-hasy/stock_market_{count}.json\"\n",
    "        \n",
    "        # Open the file in write mode and dump JSON content\n",
    "        with fs.open(s3_key, \"w\") as f:\n",
    "            f.write(json.dumps(data))  # ✅ dumps returns a string\n",
    "        \n",
    "        print(f\"[{count}] Uploaded to S3 successfully: {s3_key}\")\n",
    "    \n",
    "    except json.JSONDecodeError:\n",
    "        print(f\"[{count}] Skipped invalid JSON\")\n",
    "    except Exception as e:\n",
    "        print(f\"[{count}] Error: {e}\")"
   ]
  },
  {
   "cell_type": "code",
   "execution_count": null,
   "id": "1e0b7fba-beae-413e-ae00-879776f72faf",
   "metadata": {},
   "outputs": [],
   "source": []
  }
 ],
 "metadata": {
  "kernelspec": {
   "display_name": "Python 3 (ipykernel)",
   "language": "python",
   "name": "python3"
  },
  "language_info": {
   "codemirror_mode": {
    "name": "ipython",
    "version": 3
   },
   "file_extension": ".py",
   "mimetype": "text/x-python",
   "name": "python",
   "nbconvert_exporter": "python",
   "pygments_lexer": "ipython3",
   "version": "3.13.5"
  }
 },
 "nbformat": 4,
 "nbformat_minor": 5
}
